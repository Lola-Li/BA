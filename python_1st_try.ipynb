{
 "cells": [
  {
   "cell_type": "code",
   "execution_count": 2,
   "metadata": {},
   "outputs": [
    {
     "name": "stdout",
     "output_type": "stream",
     "text": [
      "[1 3 5 7 9]\n"
     ]
    }
   ],
   "source": [
    "import numpy as np\n",
    "a = np.array([1,3,5,7,9,9])\n",
    "a_adjust = np.unique(a)\n",
    "print(a_adjust)"
   ]
  },
  {
   "cell_type": "code",
   "execution_count": 3,
   "metadata": {},
   "outputs": [
    {
     "name": "stdout",
     "output_type": "stream",
     "text": [
      "   0  1  2  3\n",
      "0  1  3  5  7\n",
      "1  1  3  5  9\n",
      "2  1  3  5  7\n",
      "3  1  3  5  9\n",
      "   0  1  2  3\n",
      "0  1  3  5  7\n",
      "1  1  3  5  9\n"
     ]
    }
   ],
   "source": [
    "import pandas as pd\n",
    "\n",
    "a = pd.DataFrame([[1,3,5,7],[1,3,5,9],[1,3,5,7],[1,3,5,9]])\n",
    "print(a)\n",
    "a_adjust = a.drop_duplicates()\n",
    "print(a_adjust)"
   ]
  },
  {
   "cell_type": "code",
   "execution_count": 4,
   "metadata": {},
   "outputs": [
    {
     "data": {
      "text/html": [
       "<div>\n",
       "<style>\n",
       "    .dataframe thead tr:only-child th {\n",
       "        text-align: right;\n",
       "    }\n",
       "\n",
       "    .dataframe thead th {\n",
       "        text-align: left;\n",
       "    }\n",
       "\n",
       "    .dataframe tbody tr th {\n",
       "        vertical-align: top;\n",
       "    }\n",
       "</style>\n",
       "<table border=\"1\" class=\"dataframe\">\n",
       "  <thead>\n",
       "    <tr style=\"text-align: right;\">\n",
       "      <th></th>\n",
       "      <th>requester_id</th>\n",
       "      <th>sent_to_id</th>\n",
       "      <th>time</th>\n",
       "    </tr>\n",
       "  </thead>\n",
       "  <tbody>\n",
       "    <tr>\n",
       "      <th>0</th>\n",
       "      <td>101</td>\n",
       "      <td>301</td>\n",
       "      <td>2017-06-09</td>\n",
       "    </tr>\n",
       "    <tr>\n",
       "      <th>1</th>\n",
       "      <td>102</td>\n",
       "      <td>302</td>\n",
       "      <td>2017-06-10</td>\n",
       "    </tr>\n",
       "    <tr>\n",
       "      <th>2</th>\n",
       "      <td>103</td>\n",
       "      <td>303</td>\n",
       "      <td>2017-06-11</td>\n",
       "    </tr>\n",
       "  </tbody>\n",
       "</table>\n",
       "</div>"
      ],
      "text/plain": [
       "   requester_id  sent_to_id        time\n",
       "0           101         301  2017-06-09\n",
       "1           102         302  2017-06-10\n",
       "2           103         303  2017-06-11"
      ]
     },
     "execution_count": 4,
     "metadata": {},
     "output_type": "execute_result"
    }
   ],
   "source": [
    "friend_request = pd.DataFrame(\n",
    "    {\"requester_id\":[101,102,103],\n",
    "     \"time\": [\"2017-06-09\",\"2017-06-10\",\"2017-06-11\"],\n",
    "     \"sent_to_id\":[301,302,303]}\n",
    ")\n",
    "\n",
    "friend_accepted = pd.DataFrame(\n",
    "    {\"requester_id\":[103,102],\n",
    "     \"time\":[\"2017-06-13\",\"2017-06-10\"],\n",
    "     \"accepter_id\": [301,302]}\n",
    ")\n",
    "friend_request\n"
   ]
  },
  {
   "cell_type": "code",
   "execution_count": 5,
   "metadata": {},
   "outputs": [
    {
     "data": {
      "text/html": [
       "<div>\n",
       "<style>\n",
       "    .dataframe thead tr:only-child th {\n",
       "        text-align: right;\n",
       "    }\n",
       "\n",
       "    .dataframe thead th {\n",
       "        text-align: left;\n",
       "    }\n",
       "\n",
       "    .dataframe tbody tr th {\n",
       "        vertical-align: top;\n",
       "    }\n",
       "</style>\n",
       "<table border=\"1\" class=\"dataframe\">\n",
       "  <thead>\n",
       "    <tr style=\"text-align: right;\">\n",
       "      <th></th>\n",
       "      <th>accepter_id</th>\n",
       "      <th>requester_id</th>\n",
       "      <th>time</th>\n",
       "    </tr>\n",
       "  </thead>\n",
       "  <tbody>\n",
       "    <tr>\n",
       "      <th>0</th>\n",
       "      <td>301</td>\n",
       "      <td>103</td>\n",
       "      <td>2017-06-13</td>\n",
       "    </tr>\n",
       "    <tr>\n",
       "      <th>1</th>\n",
       "      <td>302</td>\n",
       "      <td>102</td>\n",
       "      <td>2017-06-10</td>\n",
       "    </tr>\n",
       "  </tbody>\n",
       "</table>\n",
       "</div>"
      ],
      "text/plain": [
       "   accepter_id  requester_id        time\n",
       "0          301           103  2017-06-13\n",
       "1          302           102  2017-06-10"
      ]
     },
     "execution_count": 5,
     "metadata": {},
     "output_type": "execute_result"
    }
   ],
   "source": [
    "friend_accepted"
   ]
  },
  {
   "cell_type": "code",
   "execution_count": 6,
   "metadata": {},
   "outputs": [
    {
     "data": {
      "text/html": [
       "<div>\n",
       "<style>\n",
       "    .dataframe thead tr:only-child th {\n",
       "        text-align: right;\n",
       "    }\n",
       "\n",
       "    .dataframe thead th {\n",
       "        text-align: left;\n",
       "    }\n",
       "\n",
       "    .dataframe tbody tr th {\n",
       "        vertical-align: top;\n",
       "    }\n",
       "</style>\n",
       "<table border=\"1\" class=\"dataframe\">\n",
       "  <thead>\n",
       "    <tr style=\"text-align: right;\">\n",
       "      <th></th>\n",
       "      <th>requester_id</th>\n",
       "      <th>sent_to_id</th>\n",
       "      <th>time_x</th>\n",
       "      <th>accepter_id</th>\n",
       "      <th>time_y</th>\n",
       "    </tr>\n",
       "  </thead>\n",
       "  <tbody>\n",
       "    <tr>\n",
       "      <th>0</th>\n",
       "      <td>101</td>\n",
       "      <td>301</td>\n",
       "      <td>2017-06-09</td>\n",
       "      <td>NaN</td>\n",
       "      <td>NaN</td>\n",
       "    </tr>\n",
       "    <tr>\n",
       "      <th>1</th>\n",
       "      <td>102</td>\n",
       "      <td>302</td>\n",
       "      <td>2017-06-10</td>\n",
       "      <td>302.0</td>\n",
       "      <td>2017-06-10</td>\n",
       "    </tr>\n",
       "    <tr>\n",
       "      <th>2</th>\n",
       "      <td>103</td>\n",
       "      <td>303</td>\n",
       "      <td>2017-06-11</td>\n",
       "      <td>301.0</td>\n",
       "      <td>2017-06-13</td>\n",
       "    </tr>\n",
       "  </tbody>\n",
       "</table>\n",
       "</div>"
      ],
      "text/plain": [
       "   requester_id  sent_to_id      time_x  accepter_id      time_y\n",
       "0           101         301  2017-06-09          NaN         NaN\n",
       "1           102         302  2017-06-10        302.0  2017-06-10\n",
       "2           103         303  2017-06-11        301.0  2017-06-13"
      ]
     },
     "execution_count": 6,
     "metadata": {},
     "output_type": "execute_result"
    }
   ],
   "source": [
    "a = pd.merge(friend_request, friend_accepted, how=\"left\", on=\"requester_id\")\n",
    "a"
   ]
  },
  {
   "cell_type": "code",
   "execution_count": 7,
   "metadata": {},
   "outputs": [
    {
     "data": {
      "text/plain": [
       "0.6666666666666666"
      ]
     },
     "execution_count": 7,
     "metadata": {},
     "output_type": "execute_result"
    }
   ],
   "source": [
    "len(a[\"accepter_id\"][a.accepter_id>0])/(len(a[\"requester_id\"]))"
   ]
  },
  {
   "cell_type": "code",
   "execution_count": 8,
   "metadata": {},
   "outputs": [
    {
     "data": {
      "text/html": [
       "<div>\n",
       "<style>\n",
       "    .dataframe thead tr:only-child th {\n",
       "        text-align: right;\n",
       "    }\n",
       "\n",
       "    .dataframe thead th {\n",
       "        text-align: left;\n",
       "    }\n",
       "\n",
       "    .dataframe tbody tr th {\n",
       "        vertical-align: top;\n",
       "    }\n",
       "</style>\n",
       "<table border=\"1\" class=\"dataframe\">\n",
       "  <thead>\n",
       "    <tr style=\"text-align: right;\">\n",
       "      <th></th>\n",
       "      <th>country</th>\n",
       "      <th>date</th>\n",
       "      <th>experiment_id</th>\n",
       "      <th>order_id</th>\n",
       "      <th>spend_usd</th>\n",
       "      <th>user_id</th>\n",
       "      <th>vertical</th>\n",
       "    </tr>\n",
       "  </thead>\n",
       "  <tbody>\n",
       "    <tr>\n",
       "      <th>0</th>\n",
       "      <td>US</td>\n",
       "      <td>2017-04-02</td>\n",
       "      <td>12624549</td>\n",
       "      <td>6720123150182430132</td>\n",
       "      <td>49.99</td>\n",
       "      <td>3659561261588336546</td>\n",
       "      <td>ANDROID_APPS</td>\n",
       "    </tr>\n",
       "    <tr>\n",
       "      <th>1</th>\n",
       "      <td>US</td>\n",
       "      <td>2017-04-01</td>\n",
       "      <td>12624549</td>\n",
       "      <td>17511438899767627798</td>\n",
       "      <td>0.99</td>\n",
       "      <td>3659561261588336546</td>\n",
       "      <td>ANDROID_APPS</td>\n",
       "    </tr>\n",
       "    <tr>\n",
       "      <th>2</th>\n",
       "      <td>US</td>\n",
       "      <td>2017-04-04</td>\n",
       "      <td>12624549</td>\n",
       "      <td>1549342062436664018</td>\n",
       "      <td>39.99</td>\n",
       "      <td>3659561261588336546</td>\n",
       "      <td>ANDROID_APPS</td>\n",
       "    </tr>\n",
       "    <tr>\n",
       "      <th>3</th>\n",
       "      <td>US</td>\n",
       "      <td>2017-04-04</td>\n",
       "      <td>12624549</td>\n",
       "      <td>7771425263197855716</td>\n",
       "      <td>19.99</td>\n",
       "      <td>3659561261588336546</td>\n",
       "      <td>ANDROID_APPS</td>\n",
       "    </tr>\n",
       "    <tr>\n",
       "      <th>4</th>\n",
       "      <td>US</td>\n",
       "      <td>2017-04-01</td>\n",
       "      <td>12624549</td>\n",
       "      <td>17943210556580942992</td>\n",
       "      <td>19.99</td>\n",
       "      <td>3659561261588336546</td>\n",
       "      <td>ANDROID_APPS</td>\n",
       "    </tr>\n",
       "  </tbody>\n",
       "</table>\n",
       "</div>"
      ],
      "text/plain": [
       "  country        date  experiment_id              order_id  spend_usd  \\\n",
       "0      US  2017-04-02       12624549   6720123150182430132      49.99   \n",
       "1      US  2017-04-01       12624549  17511438899767627798       0.99   \n",
       "2      US  2017-04-04       12624549   1549342062436664018      39.99   \n",
       "3      US  2017-04-04       12624549   7771425263197855716      19.99   \n",
       "4      US  2017-04-01       12624549  17943210556580942992      19.99   \n",
       "\n",
       "               user_id      vertical  \n",
       "0  3659561261588336546  ANDROID_APPS  \n",
       "1  3659561261588336546  ANDROID_APPS  \n",
       "2  3659561261588336546  ANDROID_APPS  \n",
       "3  3659561261588336546  ANDROID_APPS  \n",
       "4  3659561261588336546  ANDROID_APPS  "
      ]
     },
     "execution_count": 8,
     "metadata": {},
     "output_type": "execute_result"
    }
   ],
   "source": [
    "import pandas as pd\n",
    "\n",
    "file_name = \"orders_new.csv\"\n",
    "file_loc = \"/Lola/Lola Study/Bittiger/2nd stage/week4/\"\n",
    "\n",
    "data = pd.read_csv(file_loc + file_name)\n",
    "data.head(5)\n"
   ]
  },
  {
   "cell_type": "code",
   "execution_count": 9,
   "metadata": {},
   "outputs": [
    {
     "data": {
      "text/plain": [
       "<matplotlib.legend.Legend at 0x1aaf68ffb00>"
      ]
     },
     "execution_count": 9,
     "metadata": {},
     "output_type": "execute_result"
    },
    {
     "data": {
      "image/png": "[encoded data removed]",
      "text/plain": [
       "<matplotlib.figure.Figure at 0x1aaf54dbcc0>"
      ]
     },
     "metadata": {},
     "output_type": "display_data"
    }
   ],
   "source": [
    "%matplotlib inline\n",
    "import matplotlib.pyplot as plt\n",
    "\n",
    "jp = data[\"spend_usd\"][(data.spend_usd < 20) & (data.country == \"JP\")]\n",
    "us = data[\"spend_usd\"][(data.spend_usd < 20) & (data.country == \"US\")]\n",
    "\n",
    "#plot\n",
    "plot, ax = plt.subplots()\n",
    "ax.hist(jp, bins = 100, color = \"green\", label = \"JP\")\n",
    "ax.hist(us, bins = 100, color = \"blue\", label = \"US\")\n",
    "ax.legend()"
   ]
  },
  {
   "cell_type": "code",
   "execution_count": 10,
   "metadata": {},
   "outputs": [
    {
     "ename": "NameError",
     "evalue": "name 'my_data' is not defined",
     "output_type": "error",
     "traceback": [
      "\u001b[1;31m---------------------------------------------------------------------------\u001b[0m",
      "\u001b[1;31mNameError\u001b[0m                                 Traceback (most recent call last)",
      "\u001b[1;32m<ipython-input-10-ba76de1f1783>\u001b[0m in \u001b[0;36m<module>\u001b[1;34m()\u001b[0m\n\u001b[0;32m      1\u001b[0m \u001b[1;31m# deal with date format\u001b[0m\u001b[1;33m\u001b[0m\u001b[1;33m\u001b[0m\u001b[0m\n\u001b[1;32m----> 2\u001b[1;33m \u001b[0mdata\u001b[0m\u001b[1;33m.\u001b[0m\u001b[0mdate\u001b[0m \u001b[1;33m=\u001b[0m \u001b[0mpd\u001b[0m\u001b[1;33m.\u001b[0m\u001b[0mto_datetime\u001b[0m\u001b[1;33m(\u001b[0m\u001b[0mmy_data\u001b[0m\u001b[1;33m.\u001b[0m\u001b[0mdate\u001b[0m\u001b[1;33m,\u001b[0m \u001b[0mformat\u001b[0m\u001b[1;33m=\u001b[0m\u001b[1;34m'%Y-%m-%d'\u001b[0m\u001b[1;33m)\u001b[0m\u001b[1;33m\u001b[0m\u001b[0m\n\u001b[0m\u001b[0;32m      3\u001b[0m \u001b[0mdata\u001b[0m\u001b[1;33m.\u001b[0m\u001b[0mdate\u001b[0m\u001b[1;33m.\u001b[0m\u001b[0mhead\u001b[0m\u001b[1;33m(\u001b[0m\u001b[1;33m)\u001b[0m\u001b[1;33m\u001b[0m\u001b[0m\n",
      "\u001b[1;31mNameError\u001b[0m: name 'my_data' is not defined"
     ]
    }
   ],
   "source": [
    "# deal with date format\n",
    "data.date = pd.to_datetime(my_data.date, format='%Y-%m-%d')\n",
    "data.date.head()"
   ]
  },
  {
   "cell_type": "code",
   "execution_count": 11,
   "metadata": {},
   "outputs": [
    {
     "ename": "SyntaxError",
     "evalue": "invalid syntax (<ipython-input-11-c19d618b44a9>, line 3)",
     "output_type": "error",
     "traceback": [
      "\u001b[1;36m  File \u001b[1;32m\"<ipython-input-11-c19d618b44a9>\"\u001b[1;36m, line \u001b[1;32m3\u001b[0m\n\u001b[1;33m    print(a)rint(index_series)\u001b[0m\n\u001b[1;37m               ^\u001b[0m\n\u001b[1;31mSyntaxError\u001b[0m\u001b[1;31m:\u001b[0m invalid syntax\n"
     ]
    }
   ],
   "source": [
    "a = data.experiment_id.unique()\n",
    "b = data.date.unique()\n",
    "print(a)rint(index_series)"
   ]
  },
  {
   "cell_type": "code",
   "execution_count": 13,
   "metadata": {},
   "outputs": [
    {
     "data": {
      "image/png": "[encoded data removed]",
      "text/plain": [
       "<matplotlib.figure.Figure at 0x1aaf89a3e10>"
      ]
     },
     "metadata": {},
     "output_type": "display_data"
    }
   ],
   "source": [
    "# deal with date format\n",
    "data.date = pd.to_datetime(data.date, format='%Y-%m-%d')\n",
    "data.date.head()\n",
    "#very important\n",
    "\n",
    "\n",
    "#function1\n",
    "def Get(df, id):\n",
    "    table = df[[\"date\",\"spend_usd\"]][df.experiment_id == id]\n",
    "    series = table.groupby(\"date\")[\"spend_usd\"].sum()\n",
    "    return(series)\n",
    "\n",
    "#function2\n",
    "def Plot(a,b):\n",
    "    fig, ax = plt.subplots()\n",
    "    ax.plot(a, color = \"green\", label = \"treatment\")\n",
    "    ax.plot(b, color = \"blue\", label = \"control\")\n",
    "    ax.set_title(\"Treatment VS Control\")\n",
    "    ax.set_ylabel(\"Total Spend\")\n",
    "    ax.grid(True, which = \"both\")\n",
    "    #blank spaces influence? NO\n",
    "    ax.legend()\n",
    "    plt.gcf().autofmt_xdate()\n",
    "    \n",
    "#function3\n",
    "def Print(df, experiment_id):\n",
    "#    index = np.unique(df.date)\n",
    "#   index = np.sort(index)\n",
    "    \n",
    "#     df_adjust = df.sort_values(\"date\", ascending=False, inplace=False)\n",
    "    df_adjust = df\n",
    "    #how to decending?\n",
    "    treatment = Get(df_adjust, experiment_id[0])\n",
    "    control = Get(df_adjust, experiment_id[1])\n",
    "    Plot(treatment, control)\n",
    "    \n",
    "Print(data, [12624548,12624549])"
   ]
  },
  {
   "cell_type": "code",
   "execution_count": 50,
   "metadata": {},
   "outputs": [
    {
     "name": "stdout",
     "output_type": "stream",
     "text": [
      "Cumulative Impact (treatment to control):-2.46850453816%\n"
     ]
    },
    {
     "data": {
      "image/png": "[encoded data removed]",
      "text/plain": [
       "<matplotlib.figure.Figure at 0x1aafb0c92e8>"
      ]
     },
     "metadata": {},
     "output_type": "display_data"
    }
   ],
   "source": [
    "#cumulative results\n",
    "\n",
    "\n",
    "#function1\n",
    "def Getcul(df, id, country):\n",
    "    table = df[[\"date\",\"spend_usd\"]][(df.experiment_id == id) &(df.country == country)]\n",
    "    series = table.groupby(\"date\")[\"spend_usd\"].sum()\n",
    "    series =np.cumsum(series)\n",
    "    total_revenue = series[-1]\n",
    "    return((series, total_revenue))\n",
    "\n",
    "#function2\n",
    "def Plotcul(a,b):\n",
    "    fig, ax = plt.subplots()\n",
    "    ax.plot(a, color = \"green\", label = \"treatment\")\n",
    "    ax.plot(b, color = \"blue\", label = \"control\")\n",
    "    ax.set_title(\"Treatment VS Control\")\n",
    "    ax.set_ylabel(\"Total Spend\")\n",
    "    ax.grid(True, which = \"both\")\n",
    "    #blank spaces influence? NO\n",
    "    ax.legend()\n",
    "    plt.gcf().autofmt_xdate()\n",
    "    \n",
    "#function3\n",
    "def Printcul(df, experiment_id, country):\n",
    "#    index = np.unique(df.date)\n",
    "#   index = np.sort(index)\n",
    "    \n",
    "    df = df.sort_values(\"date\", ascending = True, inplace=False)\n",
    "    \n",
    "    treatment = Getcul(df, experiment_id[0], country)[0]\n",
    "    control = Getcul(df, experiment_id[1], country)[0]\n",
    "    treatment_rev = Getcul(df, experiment_id[0], country)[-1]\n",
    "    control_rev = Getcul(df, experiment_id[1], country)[-1]\n",
    "    \n",
    "    print(\"Cumulative Impact (treatment to control):\" + str(treatment_rev/control_rev*100-100)+ \"%\")\n",
    "    Plotcul(treatment, control)\n",
    "    \n",
    "Printcul(data, [12624548,12624549], \"JP\")\n"
   ]
  },
  {
   "cell_type": "code",
   "execution_count": null,
   "metadata": {},
   "outputs": [],
   "source": []
  },
  {
   "cell_type": "code",
   "execution_count": null,
   "metadata": {
    "collapsed": true
   },
   "outputs": [],
   "source": [
    "  "
   ]
  }
 ],
 "metadata": {
  "kernelspec": {
   "display_name": "Python 3",
   "language": "python",
   "name": "python3"
  },
  "language_info": {
   "codemirror_mode": {
    "name": "ipython",
    "version": 3
   },
   "file_extension": ".py",
   "mimetype": "text/x-python",
   "name": "python",
   "nbconvert_exporter": "python",
   "pygments_lexer": "ipython3",
   "version": "3.6.1"
  }
 },
 "nbformat": 4,
 "nbformat_minor": 2
}
